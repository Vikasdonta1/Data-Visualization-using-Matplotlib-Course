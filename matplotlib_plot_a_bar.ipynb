{
  "nbformat": 4,
  "nbformat_minor": 0,
  "metadata": {
    "colab": {
      "provenance": [],
      "collapsed_sections": [],
      "authorship_tag": "ABX9TyPJX7/2T+tqNRocR5PsZ9R8",
      "include_colab_link": true
    },
    "kernelspec": {
      "name": "python3",
      "display_name": "Python 3"
    },
    "language_info": {
      "name": "python"
    }
  },
  "cells": [
    {
      "cell_type": "markdown",
      "metadata": {
        "id": "view-in-github",
        "colab_type": "text"
      },
      "source": [
        "<a href=\"https://colab.research.google.com/github/Vikasdonta1/Data-Visualization-using-Matplotlib-Course/blob/main/matplotlib_plot_a_bar.ipynb\" target=\"_parent\"><img src=\"https://colab.research.google.com/assets/colab-badge.svg\" alt=\"Open In Colab\"/></a>"
      ]
    },
    {
      "cell_type": "markdown",
      "source": [
        "#**Plot a Bar Plot Using Matplotlib**\n",
        "Plotting a Bar Plot in Matplotlib is as easy as calling the bar() function on the PyPlot instance, and passing in the categorical and numerical variables that we'd like to visualize."
      ],
      "metadata": {
        "id": "rL7aEj4X29qt"
      }
    },
    {
      "cell_type": "code",
      "execution_count": null,
      "metadata": {
        "colab": {
          "base_uri": "https://localhost:8080/",
          "height": 265
        },
        "id": "dlBxkcS226D3",
        "outputId": "7e42bd18-b272-483f-9adc-795499da1b5a"
      },
      "outputs": [
        {
          "output_type": "display_data",
          "data": {
            "text/plain": [
              "<Figure size 432x288 with 1 Axes>"
            ],
            "image/png": "[encoded data removed]"
          },
          "metadata": {
            "needs_background": "light"
          }
        }
      ],
      "source": [
        "import matplotlib.pyplot as plt\n",
        "\n",
        "x = ['A', 'B', 'C']\n",
        "y = [1, 5, 3]\n",
        "\n",
        "plt.bar(x, y)\n",
        "plt.show()"
      ]
    },
    {
      "cell_type": "markdown",
      "source": [
        "##**Plot a Horizontal Bar Plot in Matplotlib**\n",
        "Oftentimes, we might want to plot a Bar Plot horizontally, instead of vertically. This is easily achieveable by switching the plt.bar() call with the plt.barh() call:"
      ],
      "metadata": {
        "id": "fUHSfDjp3KHF"
      }
    },
    {
      "cell_type": "code",
      "source": [
        "import matplotlib.pyplot as plt\n",
        "\n",
        "x = ['A', 'B', 'C']\n",
        "y = [1, 5, 3]\n",
        "\n",
        "plt.barh(x, y)\n",
        "plt.show()"
      ],
      "metadata": {
        "colab": {
          "base_uri": "https://localhost:8080/",
          "height": 265
        },
        "id": "FC81KBxA3OTF",
        "outputId": "25441e4d-3b06-4022-9ce6-be3e3c1a0f1c"
      },
      "execution_count": null,
      "outputs": [
        {
          "output_type": "display_data",
          "data": {
            "text/plain": [
              "<Figure size 432x288 with 1 Axes>"
            ],
            "image/png": "[encoded data removed]"
          },
          "metadata": {
            "needs_background": "light"
          }
        }
      ]
    },
    {
      "cell_type": "markdown",
      "source": [
        "###**Change Bar Plot Color in Matplotlib**"
      ],
      "metadata": {
        "id": "3b97vz3W3Uft"
      }
    },
    {
      "cell_type": "code",
      "source": [
        "import matplotlib.pyplot as plt\n",
        "\n",
        "x = ['A', 'B', 'C']\n",
        "y = [1, 5, 3]\n",
        "\n",
        "plt.bar(x, y, color=['red', 'blue', 'green'])\n",
        "plt.show()"
      ],
      "metadata": {
        "colab": {
          "base_uri": "https://localhost:8080/",
          "height": 265
        },
        "id": "lDOEiofD3XXF",
        "outputId": "efddf137-9339-4794-a7ec-8a6d4af42140"
      },
      "execution_count": null,
      "outputs": [
        {
          "output_type": "display_data",
          "data": {
            "text/plain": [
              "<Figure size 432x288 with 1 Axes>"
            ],
            "image/png": "[encoded data removed]"
          },
          "metadata": {
            "needs_background": "light"
          }
        }
      ]
    },
    {
      "cell_type": "code",
      "source": [
        "import matplotlib.pyplot as plt\n",
        "\n",
        "x = ['A', 'B', 'C']\n",
        "y = [1, 5, 3]\n",
        "\n",
        "plt.bar(x, y, color=['r', 'b', 'g'])\n",
        "plt.show()"
      ],
      "metadata": {
        "colab": {
          "base_uri": "https://localhost:8080/",
          "height": 265
        },
        "id": "lrPz3MVp3dl9",
        "outputId": "05d887c8-332c-406c-eafb-c14c6ae2cf49"
      },
      "execution_count": null,
      "outputs": [
        {
          "output_type": "display_data",
          "data": {
            "text/plain": [
              "<Figure size 432x288 with 1 Axes>"
            ],
            "image/png": "[encoded data removed]"
          },
          "metadata": {
            "needs_background": "light"
          }
        }
      ]
    },
    {
      "cell_type": "code",
      "source": [
        "import matplotlib.pyplot as plt\n",
        "\n",
        "x = ['A', 'B', 'C']\n",
        "y = [1, 5, 3]\n",
        "\n",
        "plt.bar(x, y, color='green')\n",
        "plt.show()"
      ],
      "metadata": {
        "colab": {
          "base_uri": "https://localhost:8080/",
          "height": 265
        },
        "id": "7rf_2rZy3lOe",
        "outputId": "d591caf2-0480-41cf-f3f3-3ac429d5c9ed"
      },
      "execution_count": null,
      "outputs": [
        {
          "output_type": "display_data",
          "data": {
            "text/plain": [
              "<Figure size 432x288 with 1 Axes>"
            ],
            "image/png": "[encoded data removed]"
          },
          "metadata": {
            "needs_background": "light"
          }
        }
      ]
    },
    {
      "cell_type": "markdown",
      "source": [
        "Change Width of BAR"
      ],
      "metadata": {
        "id": "6Z4FvRSc3pB-"
      }
    },
    {
      "cell_type": "code",
      "source": [
        "import matplotlib.pyplot as plt \n",
        "\n",
        "plt.xlabel('x - axis') \n",
        "plt.ylabel('y - axis') \n",
        "plt.title('My bar chart!') \n",
        "  \n",
        "left = [1, 2, 3, 4, 5] \n",
        "height = [10, 24, 36, 40, 5] \n",
        "  \n",
        "plt.bar(left, height, width = 0.8, color = ['red', 'green']) \n",
        "plt.show() "
      ],
      "metadata": {
        "colab": {
          "base_uri": "https://localhost:8080/",
          "height": 295
        },
        "id": "BEhQO8Gy3qgV",
        "outputId": "0725d385-1f2f-49d1-d0c4-b84cc1090f4c"
      },
      "execution_count": null,
      "outputs": [
        {
          "output_type": "display_data",
          "data": {
            "text/plain": [
              "<Figure size 432x288 with 1 Axes>"
            ],
            "image/png": "[encoded data removed]"
          },
          "metadata": {
            "needs_background": "light"
          }
        }
      ]
    },
    {
      "cell_type": "markdown",
      "source": [
        "Categorical x-axis order - Bar Plot"
      ],
      "metadata": {
        "id": "q_if3-JI3z5d"
      }
    },
    {
      "cell_type": "code",
      "source": [
        "import matplotlib.pyplot as plt \n",
        "\n",
        "plt.xlabel('x - axis') \n",
        "plt.ylabel('y - axis') \n",
        "plt.title('My bar chart!') \n",
        "  \n",
        "left = [1, 2, 3, 4, 5] \n",
        "height = [10, 24, 36, 40, 5] \n",
        "  \n",
        "tick_label = ['one', 'two', 'three', 'four', 'five'] \n",
        "  \n",
        "plt.bar(left, height, tick_label = tick_label, width = 0.8, color = ['red', 'green']) \n",
        "plt.show() "
      ],
      "metadata": {
        "colab": {
          "base_uri": "https://localhost:8080/",
          "height": 295
        },
        "id": "MdZ-OdEK31Nm",
        "outputId": "ba63bde8-dc9c-4f51-dc9a-5f52f925e3a1"
      },
      "execution_count": null,
      "outputs": [
        {
          "output_type": "display_data",
          "data": {
            "text/plain": [
              "<Figure size 432x288 with 1 Axes>"
            ],
            "image/png": "[encoded data removed]"
          },
          "metadata": {
            "needs_background": "light"
          }
        }
      ]
    },
    {
      "cell_type": "markdown",
      "source": [
        "Multibar Plot"
      ],
      "metadata": {
        "id": "7kuprSJs368d"
      }
    },
    {
      "cell_type": "code",
      "source": [
        "\n",
        "x1=[2,3,6]\n",
        "y1=[6,3,4]\n",
        "\n",
        "x2=[3,5,7]\n",
        "y2=[7,3,6]\n",
        "\n",
        "plt.bar(x1,y1,width=0.5)\n",
        "plt.bar(x2,y2,width=0.5)\n",
        "plt.show()\n"
      ],
      "metadata": {
        "colab": {
          "base_uri": "https://localhost:8080/",
          "height": 265
        },
        "id": "EC1VrSTV38ml",
        "outputId": "c484e969-9e3d-492e-ffa4-fdfc877ba96e"
      },
      "execution_count": null,
      "outputs": [
        {
          "output_type": "display_data",
          "data": {
            "text/plain": [
              "<Figure size 432x288 with 1 Axes>"
            ],
            "image/png": "[encoded data removed]"
          },
          "metadata": {
            "needs_background": "light"
          }
        }
      ]
    },
    {
      "cell_type": "code",
      "source": [
        "x1=[2,3,6]\n",
        "y1=[6,3,4]\n",
        "\n",
        "x2=[3,5,7]\n",
        "y2=[7,3,6]\n",
        "\n",
        "plt.bar(x1,y1,width=0.5)\n",
        "plt.bar(x2,y2,width=0.5,alpha=.4) # alpha -> float (0.0 transparent through 1.0 opaque)\n",
        "plt.show()"
      ],
      "metadata": {
        "colab": {
          "base_uri": "https://localhost:8080/",
          "height": 265
        },
        "id": "_XAZYVAo4C1d",
        "outputId": "f88ff92b-f70e-445e-a2f5-d4e027f45b86"
      },
      "execution_count": null,
      "outputs": [
        {
          "output_type": "display_data",
          "data": {
            "text/plain": [
              "<Figure size 432x288 with 1 Axes>"
            ],
            "image/png": "[encoded data removed]"
          },
          "metadata": {
            "needs_background": "light"
          }
        }
      ]
    },
    {
      "cell_type": "markdown",
      "source": [
        "Adjust Bar Plot"
      ],
      "metadata": {
        "id": "rC0WZAgy4Fzt"
      }
    },
    {
      "cell_type": "code",
      "source": [
        "import numpy as np\n",
        "\n",
        "N = 5\n",
        "men = (20, 35, 30, 35, 27)\n",
        "women = (25, 32, 34, 20, 25)\n",
        "\n",
        "index = np.arange(N) \n",
        "width = 0.35       \n",
        "plt.bar(index, men, width, label='Men')\n",
        "plt.bar(index + width, women, width,label='Women')\n",
        "\n",
        "plt.ylabel('Scores')\n",
        "plt.title('Scores by group and gender')\n",
        "\n",
        "plt.xticks(index + width / 2, ('G1', 'G2', 'G3', 'G4', 'G5'))\n",
        "plt.legend(loc='best')\n",
        "plt.show()"
      ],
      "metadata": {
        "colab": {
          "base_uri": "https://localhost:8080/",
          "height": 281
        },
        "id": "DevdYtKU4HDO",
        "outputId": "bc83e775-9de0-4802-c03b-f665d7c8c3db"
      },
      "execution_count": null,
      "outputs": [
        {
          "output_type": "display_data",
          "data": {
            "text/plain": [
              "<Figure size 432x288 with 1 Axes>"
            ],
            "image/png": "[encoded data removed]"
          },
          "metadata": {
            "needs_background": "light"
          }
        }
      ]
    },
    {
      "cell_type": "markdown",
      "source": [
        "Bar Plot with Percentage"
      ],
      "metadata": {
        "id": "F466fvly4ODG"
      }
    },
    {
      "cell_type": "code",
      "source": [
        "import numpy as np\n",
        "plt.ylabel('Scores')\n",
        "plt.title('Scores by group and gender')\n",
        "\n",
        "N = 5\n",
        "men = (20, 35, 30, 35, 27)\n",
        "women = (25, 32, 34, 20, 25)\n",
        "\n",
        "index = np.arange(N) \n",
        "width = 0.35  \n",
        "\n",
        "a = plt.bar(index, men, width, label='Men')\n",
        "b = plt.bar(index + width, women, width,label='Women')\n",
        "\n",
        "for rect in a:\n",
        "    height = rect.get_height()\n",
        "    plt.text(rect.get_x() + rect.get_width()/2., 1.04*height,'%.1f' % float(height),ha='center', va='bottom')\n",
        "    \n",
        "for rect in b:\n",
        "    height = rect.get_height()\n",
        "    plt.text(rect.get_x() + rect.get_width()/2., 1.04*height,'%.1f' % float(height),ha='center', va='bottom')\n",
        "    \n",
        "plt.ylim(0,45)\n",
        "\n",
        "plt.xticks(index + width / 2, ('G1', 'G2', 'G3', 'G4', 'G5'))\n",
        "plt.legend(loc='best')\n",
        "plt.show()"
      ],
      "metadata": {
        "colab": {
          "base_uri": "https://localhost:8080/",
          "height": 281
        },
        "id": "50beBw0e4Ort",
        "outputId": "4c2b532a-9017-4cc6-c71b-8441200d870d"
      },
      "execution_count": null,
      "outputs": [
        {
          "output_type": "display_data",
          "data": {
            "text/plain": [
              "<Figure size 432x288 with 1 Axes>"
            ],
            "image/png": "[encoded data removed]"
          },
          "metadata": {
            "needs_background": "light"
          }
        }
      ]
    },
    {
      "cell_type": "markdown",
      "source": [
        "Tripple Bar Plot"
      ],
      "metadata": {
        "id": "aYyBs_YQ4bOV"
      }
    },
    {
      "cell_type": "code",
      "source": [
        "import numpy as np\n",
        "import matplotlib.pyplot as plt\n",
        "\n",
        "data = [[30, 25, 50, 20],[40, 23, 51, 17],[35, 22, 45, 19]]\n",
        "X = np.arange(4)\n",
        "\n",
        "plt.bar(X + 0.00, data[0], color = 'b', width = 0.25)\n",
        "plt.bar(X + 0.25, data[1], color = 'g', width = 0.25)\n",
        "plt.bar(X + 0.50, data[2], color = 'r', width = 0.25)\n",
        "\n",
        "plt.show()"
      ],
      "metadata": {
        "colab": {
          "base_uri": "https://localhost:8080/",
          "height": 265
        },
        "id": "9tny7zXh4cA-",
        "outputId": "14ba8424-4074-49ee-86c4-449238e3488d"
      },
      "execution_count": null,
      "outputs": [
        {
          "output_type": "display_data",
          "data": {
            "text/plain": [
              "<Figure size 432x288 with 1 Axes>"
            ],
            "image/png": "[encoded data removed]"
          },
          "metadata": {
            "needs_background": "light"
          }
        }
      ]
    },
    {
      "cell_type": "markdown",
      "source": [
        "###**Matplotlib Style**"
      ],
      "metadata": {
        "id": "n08F_5914j7-"
      }
    },
    {
      "cell_type": "code",
      "source": [
        "from matplotlib import style\n",
        "print(plt.style.available)"
      ],
      "metadata": {
        "colab": {
          "base_uri": "https://localhost:8080/"
        },
        "id": "EuhfFYeH4g7l",
        "outputId": "23fd3e2f-1389-4acb-9e63-a4fd0ced94f8"
      },
      "execution_count": null,
      "outputs": [
        {
          "output_type": "stream",
          "name": "stdout",
          "text": [
            "['Solarize_Light2', '_classic_test_patch', 'bmh', 'classic', 'dark_background', 'fast', 'fivethirtyeight', 'ggplot', 'grayscale', 'seaborn', 'seaborn-bright', 'seaborn-colorblind', 'seaborn-dark', 'seaborn-dark-palette', 'seaborn-darkgrid', 'seaborn-deep', 'seaborn-muted', 'seaborn-notebook', 'seaborn-paper', 'seaborn-pastel', 'seaborn-poster', 'seaborn-talk', 'seaborn-ticks', 'seaborn-white', 'seaborn-whitegrid', 'tableau-colorblind10']\n"
          ]
        }
      ]
    },
    {
      "cell_type": "code",
      "source": [
        "import matplotlib.pyplot as plt\n",
        "from matplotlib import style\n",
        "import numpy as np\n",
        "style.use('ggplot')\n",
        "\n",
        "plt.ylabel('Scores')\n",
        "plt.title('Scores by group and gender')\n",
        "\n",
        "N = 5\n",
        "men = (20, 35, 30, 35, 27)\n",
        "women = (25, 32, 34, 20, 25)\n",
        "\n",
        "index = np.arange(N) \n",
        "width = 0.35  \n",
        "\n",
        "a = plt.bar(index, men, width, label='Men')\n",
        "b = plt.bar(index + width, women, width,label='Women')\n",
        "\n",
        "for rect in a:\n",
        "    height = rect.get_height()\n",
        "    plt.text(rect.get_x() + rect.get_width()/2., 1.04*height,'%.1f' % float(height),ha='center', va='bottom')\n",
        "    \n",
        "for rect in b:\n",
        "    height = rect.get_height()\n",
        "    plt.text(rect.get_x() + rect.get_width()/2., 1.04*height,'%.1f' % float(height),ha='center', va='bottom')\n",
        "    \n",
        "plt.ylim(0,45)\n",
        "\n",
        "plt.xticks(index + width / 2, ('G1', 'G2', 'G3', 'G4', 'G5'))\n",
        "plt.legend(loc='best')\n",
        "plt.show()\n"
      ],
      "metadata": {
        "colab": {
          "base_uri": "https://localhost:8080/",
          "height": 282
        },
        "id": "qI5YsLbI4tjO",
        "outputId": "df3d583c-5861-4c70-ab80-3871102e1d85"
      },
      "execution_count": null,
      "outputs": [
        {
          "output_type": "display_data",
          "data": {
            "text/plain": [
              "<Figure size 432x288 with 1 Axes>"
            ],
            "image/png": "[encoded data removed]"
          },
          "metadata": {}
        }
      ]
    }
  ]
}